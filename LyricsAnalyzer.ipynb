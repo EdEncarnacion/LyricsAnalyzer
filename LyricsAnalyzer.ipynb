{
 "cells": [
  {
   "cell_type": "markdown",
   "metadata": {},
   "source": [
    "Rex Brown and Phil Anselmo (Pantera´s surviving members) are planing to reunite for Pantera´s first major tour in 22 years!!! It´s reported that Zakk Wylde and Charlie Benante are the choosen replacements for Dimebag Darrel and Vinnie Paul respectively.\n",
    "\n",
    "I remember growing up that some people used to say that Pantera´s songs were dark and heavy. Using Python and the Genius API we´re going to analyze what the lyrics of some of it´s most famous songs convey to see if this people were right or not."
   ]
  },
  {
   "cell_type": "code",
   "execution_count": 1,
   "metadata": {},
   "outputs": [],
   "source": [
    "#import libraries\n",
    "from lyricsgenius import Genius\n",
    "from bs4 import BeautifulSoup\n",
    "from textblob import TextBlob\n",
    "import matplotlib.pyplot as plt"
   ]
  },
  {
   "cell_type": "code",
   "execution_count": 2,
   "metadata": {},
   "outputs": [],
   "source": [
    "#Connecting to the Genius API\n",
    "genius = Genius('A0Rn1G4W9u-80YoBHo3uo0ykIVxOzzlqVulLL8Wy3Fv1ecj4r5ZNaIHFIe3Au1T_') #put your access token inside the parentheses to connect to the Genius API."
   ]
  },
  {
   "cell_type": "markdown",
   "metadata": {},
   "source": [
    "Now, let´s first extract the Top10 list of the most popular Pantera´s songs on the Genius website."
   ]
  },
  {
   "cell_type": "code",
   "execution_count": 3,
   "metadata": {},
   "outputs": [
    {
     "name": "stdout",
     "output_type": "stream",
     "text": [
      "Searching for songs by Pantera...\n",
      "\n",
      "Song 1: \"Walk\"\n",
      "Song 2: \"Cemetery Gates\"\n",
      "Song 3: \"This Love\"\n",
      "Song 4: \"Cowboys from Hell\"\n",
      "Song 5: \"Domination\"\n",
      "Song 6: \"5 Minutes Alone\"\n",
      "Song 7: \"I’m Broken\"\n",
      "Song 8: \"Floods\"\n",
      "Song 9: \"Hollow\"\n",
      "Song 10: \"Mouth for War\"\n",
      "\n",
      "Reached user-specified song limit (10).\n",
      "Done. Found 10 songs.\n"
     ]
    }
   ],
   "source": [
    "artist = genius.search_artist('Pantera', max_songs=10) #To get the list of all the songs just erase the max_songs parameter, it may take a while to retrieve all the data so just be patience."
   ]
  },
  {
   "cell_type": "markdown",
   "metadata": {},
   "source": [
    "My all-time favorite song from Pantera is Cowboys from Hell so let´s run an analysis on these lyrics."
   ]
  },
  {
   "cell_type": "code",
   "execution_count": 4,
   "metadata": {},
   "outputs": [
    {
     "name": "stdout",
     "output_type": "stream",
     "text": [
      "Cowboys from Hell Lyrics[Intro]\n",
      "Oh, come on\n",
      "\n",
      "[Verse 1]\n",
      "Under the lights where we stand tall\n",
      "Nobody touches us at all\n",
      "Showdown, shootout\n",
      "Spread fear within, without\n",
      "I say we're gonna take what's ours to have\n",
      "Spread the word throughout the land\n",
      "They say the bad guys wear black\n",
      "We're tagged and can't turn back\n",
      "[Pre-Chorus]\n",
      "You see us coming and you all together run for cover\n",
      "We're taking over this town\n",
      "\n",
      "[Chorus]\n",
      "Here we come, reach for your gun\n",
      "And you better listen well, my friend\n",
      "You see, it's been slow down below\n",
      "Aimed at you, we're the Cowboys from Hell\n",
      "Deed is done, again we've won\n",
      "Ain't talking no tall tales, friend\n",
      "'Cause high noon, your doom\n",
      "Coming for you, we're the Cowboys from Hell\n",
      "\n",
      "[Verse 2]\n",
      "Oh, pillage the village, trash the scene\n",
      "But better not take it out on me\n",
      "'Cause a ghost town is found\n",
      "Where your city used to be\n",
      "So out of the darkness and into the light\n",
      "Sparks fly everywhere in sight\n",
      "From my double barrel, 12 gauge\n",
      "Can't lock me in your cage\n",
      "\n",
      "[Pre-Chorus]\n",
      "You see us coming and you all together run for cover\n",
      "We're taking over this town\n",
      "[Chorus]\n",
      "Here we come, reach for your gun\n",
      "And you better listen well, my friend\n",
      "You see, it's been slow down below\n",
      "Aimed at you, we're the Cowboys from Hell\n",
      "Deed is done, again we've won\n",
      "Ain't talking no tall tales, friend\n",
      "'Cause high noon, your doom\n",
      "Coming for you, we're the Cowboys from Hell\n",
      "\n",
      "[Guitar Solo]\n",
      "\n",
      "[Chorus]\n",
      "Here we come, reach for your gun\n",
      "And you better listen well, my friend\n",
      "You see, it's been slow down below\n",
      "Aimed at you, we're the Cowboys from Hell\n",
      "Deed is done, again we've won\n",
      "Ain't talking no tall tales, friend\n",
      "'Cause high noon, your doom\n",
      "Coming for you, we're the Cowboys from Hell\n",
      "\n",
      "[Outro]\n",
      "Step aside for the Cowboys from Hell12Embed\n"
     ]
    }
   ],
   "source": [
    "url = 'https://genius.com/Pantera-cowboys-from-hell-lyrics'\n",
    "cfh = genius.lyrics(song_url=url)\n",
    "cfh_soup = BeautifulSoup(cfh)\n",
    "cfh_soup.prettify()\n",
    "print(cfh_soup.get_text())\n"
   ]
  },
  {
   "cell_type": "markdown",
   "metadata": {},
   "source": [
    "I wonder how many times the title is used on the lyrics..."
   ]
  },
  {
   "cell_type": "code",
   "execution_count": 14,
   "metadata": {},
   "outputs": [
    {
     "name": "stdout",
     "output_type": "stream",
     "text": [
      "The total number of times that 'Cowboys from Hell' is used in the lyrics is 8 (including the title)\n"
     ]
    }
   ],
   "source": [
    "keywords = ['Cowboys']\n",
    "statistics = {}\n",
    "for keyword in keywords:\n",
    "    statistics[keyword] = cfh.count(keyword)\n",
    "print(\"The total number of times that '{} from Hell' is used in the lyrics is {} (including the title)\".format(keyword, statistics[keyword]))"
   ]
  },
  {
   "cell_type": "markdown",
   "metadata": {},
   "source": [
    "Now, let´s run a Sentiment Analysis on the lyrics:\n",
    " \n",
    "*(NOTE: The Sentiment Analysis will range between -1 and 1, -1 indicates that the algorithm considers the lyrics convey a negative emotion while a value of 1 means that the algorithm considers the lyrics convey a positive emotion)"
   ]
  },
  {
   "cell_type": "code",
   "execution_count": 6,
   "metadata": {},
   "outputs": [
    {
     "name": "stdout",
     "output_type": "stream",
     "text": [
      "Sentiment analysis: 0.07614035087719297\n"
     ]
    }
   ],
   "source": [
    "blob = TextBlob(cfh)\n",
    "sentiment_cfh = blob.polarity\n",
    "print('Sentiment analysis:',sentiment_cfh)"
   ]
  },
  {
   "cell_type": "markdown",
   "metadata": {},
   "source": [
    "Sentiment Analysis output seems to convey a neutral emotion, maybe something with a little more punch might give us something different? Mouth for War is one of the heaviest songs I know, let´s run the same Sentiment Analysis on the lyrics:"
   ]
  },
  {
   "cell_type": "code",
   "execution_count": 7,
   "metadata": {},
   "outputs": [
    {
     "name": "stdout",
     "output_type": "stream",
     "text": [
      "Mouth for War Lyrics[Verse 1]\n",
      "Revenge, I'm screaming revenge again\n",
      "Wrong, I've been wrong for far too long\n",
      "Been constantly so frustrated, I've moved mountains with less\n",
      "When I channel my hate to productive, I don't find it hard to impress\n",
      "\n",
      "[Pre-Chorus]\n",
      "Bones in traction\n",
      "Hands break to hone raw energy\n",
      "Bold and disastrous\n",
      "My ears can't hear what you say to me\n",
      "[Chorus]\n",
      "Hold your mouth for the war\n",
      "Use it for what it's for\n",
      "Speak the truth about me\n",
      "Determined\n",
      "\n",
      "[Verse 2]\n",
      "Possessed, I feel a conquering will down inside me\n",
      "Strength, the strength of many to crush who might stop me\n",
      "My strength is in number and my soul lies in every one\n",
      "The releasing of anger can better any medicine under the sun\n",
      "\n",
      "[Pre-Chorus]\n",
      "Bones in traction\n",
      "Hands break to hone raw energy\n",
      "Bold and disastrous\n",
      "My ears can't hear what you say to me\n",
      "\n",
      "[Chorus]\n",
      "Hold your mouth for the war\n",
      "Use it for what it's for\n",
      "Speak the truth about me\n",
      "Determined\n",
      "\n",
      "[Solo]\n",
      "[Bridge]\n",
      "There comes a time within everyone\n",
      "To close your eyes to what's real\n",
      "\n",
      "[Outro]\n",
      "No comprehension to fail\n",
      "I vacuum the wind for my sail\n",
      "Can't be the rest, let others waste my time\n",
      "Owning success is the bottom line\n",
      "Like a knife into flesh\n",
      "After life is to death\n",
      "Pulling and punching the rest of duration\n",
      "No one can piss on this determination8Embed\n"
     ]
    }
   ],
   "source": [
    "url = 'https://genius.com/Pantera-mouth-for-war-lyrics'\n",
    "mfw = genius.lyrics(song_url=url)\n",
    "mfw_soup = BeautifulSoup(mfw)\n",
    "mfw_soup.prettify()\n",
    "print(mfw_soup.get_text())"
   ]
  },
  {
   "cell_type": "code",
   "execution_count": 15,
   "metadata": {},
   "outputs": [
    {
     "name": "stdout",
     "output_type": "stream",
     "text": [
      "The total number of times that 'mouth for war' is used in the lyrics is 2 (including the title)\n"
     ]
    }
   ],
   "source": [
    "keywords = ['mouth']\n",
    "statistics = {}\n",
    "for keyword in keywords:\n",
    "    statistics[keyword] = mfw.count(keyword)\n",
    "print(\"The total number of times that '{} for war' is used in the lyrics is {} (including the title)\".format(keyword, statistics[keyword]))"
   ]
  },
  {
   "cell_type": "code",
   "execution_count": 9,
   "metadata": {},
   "outputs": [
    {
     "name": "stdout",
     "output_type": "stream",
     "text": [
      "Sentiment analysis: -0.1811780007432181\n"
     ]
    }
   ],
   "source": [
    "blob = TextBlob(mfw)\n",
    "sentiment_mfw = blob.polarity\n",
    "print('Sentiment analysis:',sentiment_mfw)"
   ]
  },
  {
   "cell_type": "markdown",
   "metadata": {},
   "source": [
    "Sentiment Analysis output yields a slighly negative emotion, but it´s not even close to a full negative emotion.\n",
    "\n",
    "Let´s run a Sentiment Analysis one last time, this time we´re gonna check Pantera´s most popular song on the Genius website: Walk"
   ]
  },
  {
   "cell_type": "code",
   "execution_count": 10,
   "metadata": {},
   "outputs": [
    {
     "name": "stdout",
     "output_type": "stream",
     "text": [
      "Walk Lyrics[Verse 1]\n",
      "Can't you see I'm easily bothered by persistence?\n",
      "One step from lashing out at you\n",
      "You want in to get under my skin and call yourself a friend\n",
      "I've got more friends like you, what do I do?\n",
      "\n",
      "[Pre-Chorus]\n",
      "Is there no standard anymore?\n",
      "What it takes, who I am, where I've been, belong\n",
      "You can't be something you're not\n",
      "Be yourself by yourself, stay away from me\n",
      "A lesson learned in life\n",
      "Known from the dawn of time\n",
      "[Chorus]\n",
      "Respect, walk\n",
      "What did you say?\n",
      "Respect, walk\n",
      "Are you talkin' to me?\n",
      "Are you talkin' to me?\n",
      "\n",
      "[Verse 2]\n",
      "Run your mouth when I'm not around, it's easy to achieve\n",
      "You cry to weak friends that sympathize\n",
      "Can you hear the violins playing your song?\n",
      "Those same friends tell me your every word\n",
      "\n",
      "[Pre-Chorus]\n",
      "Is there no standard anymore?\n",
      "What it takes, who I am, where I've been, belong\n",
      "You can't be something you're not\n",
      "Be yourself by yourself, stay away from me\n",
      "A lesson learned in life\n",
      "Known from the dawn of time\n",
      "\n",
      "[Chorus]\n",
      "Respect, walk\n",
      "What did you say?\n",
      "Respect, walk\n",
      "Are you talkin' to me?\n",
      "Respect, walk\n",
      "What did you say?\n",
      "Respect, walk\n",
      "Are you talkin' to me?\n",
      "Are you talkin' to me?\n",
      "No way, punk\n",
      "[Guitar Solo]\n",
      "\n",
      "[Chorus]\n",
      "Respect, walk\n",
      "What did you say?\n",
      "Respect, walk\n",
      "Are you talkin' to me?\n",
      "Respect, walk\n",
      "What did you say?\n",
      "Respect, walk\n",
      "Are you talkin' to me?\n",
      "Are you talkin' to me?\n",
      "Walk on home, boy38Embed\n"
     ]
    }
   ],
   "source": [
    "url = 'https://genius.com/Pantera-walk-lyrics'\n",
    "wk = genius.lyrics(song_url=url)\n",
    "wk_soup = BeautifulSoup(wk)\n",
    "wk_soup.prettify()\n",
    "print(wk_soup.get_text())"
   ]
  },
  {
   "cell_type": "code",
   "execution_count": 16,
   "metadata": {},
   "outputs": [
    {
     "name": "stdout",
     "output_type": "stream",
     "text": [
      "The total number of times that 'walk' is used in the lyrics is 10 (including the title)\n"
     ]
    }
   ],
   "source": [
    "keywords = ['walk']\n",
    "statistics = {}\n",
    "for keyword in keywords:\n",
    "    statistics[keyword] = wk.count(keyword)\n",
    "print(\"The total number of times that '{}' is used in the lyrics is {} (including the title)\".format(keyword, statistics[keyword]))"
   ]
  },
  {
   "cell_type": "code",
   "execution_count": 12,
   "metadata": {},
   "outputs": [
    {
     "name": "stdout",
     "output_type": "stream",
     "text": [
      "Sentiment analysis: 0.14166666666666666\n"
     ]
    }
   ],
   "source": [
    "blob = TextBlob(wk)\n",
    "sentiment_wk = blob.polarity\n",
    "print('Sentiment analysis:',sentiment_wk)"
   ]
  },
  {
   "cell_type": "markdown",
   "metadata": {},
   "source": [
    "Sentiment Analysis output yields a slighly possitive emotion, but same as before, it´s not even close to a full positive emotion.\n",
    "\n",
    "Finally, let´s compare the Sentiment Analysis for all three songs:"
   ]
  },
  {
   "cell_type": "code",
   "execution_count": 13,
   "metadata": {},
   "outputs": [
    {
     "data": {
      "image/png": "[encoded data removed]",
      "text/plain": [
       "<Figure size 640x480 with 1 Axes>"
      ]
     },
     "metadata": {},
     "output_type": "display_data"
    }
   ],
   "source": [
    "songs = ['Cowboys from Hell', 'Mouth for War', 'Walk']\n",
    "sentiments = [sentiment_cfh, sentiment_mfw, sentiment_wk]\n",
    "\n",
    "#Plotting\n",
    "fig = plt.figure()\n",
    "ax=fig.add_axes([0,0,1,1])\n",
    "plt.setp(plt.gca(), ylim=(-1.1))\n",
    "ax.bar(songs, sentiments, color='blue', edgecolor= 'white')\n",
    "plt.xlabel('Songs',fontsize=15)\n",
    "plt.ylabel('Sentiment range \\n\\n <--Negative-------Positive-->', fontsize=15)\n",
    "plt.title('Sentiment Analysis comparison', fontsize=20)\n",
    "plt.show()"
   ]
  },
  {
   "cell_type": "markdown",
   "metadata": {},
   "source": [
    "In conclusion, there seems to be a neutral emotion for the songs we´ve analyzed, meaning that the lyrics aren´t as dark or negative as some people might still think.\n",
    "\n",
    "Maybe by running more Sentiment Analysis on all Pantera´s songs we will be able to understand what on average the songs convey, I´ll work on that when I can!\n",
    "\n",
    "Something that cannot be denied is that Pantera´s unique style and influence makes them one of the greatest heavy metal band of all time and I for one cannot wait to see them live!"
   ]
  }
 ],
 "metadata": {
  "kernelspec": {
   "display_name": "Python 3.10.6 64-bit",
   "language": "python",
   "name": "python3"
  },
  "language_info": {
   "codemirror_mode": {
    "name": "ipython",
    "version": 3
   },
   "file_extension": ".py",
   "mimetype": "text/x-python",
   "name": "python",
   "nbconvert_exporter": "python",
   "pygments_lexer": "ipython3",
   "version": "3.10.6"
  },
  "orig_nbformat": 4,
  "vscode": {
   "interpreter": {
    "hash": "1d1b584c1f85ef0b92858e5acda08af73d918b24a401c3ee771a3fc99bf52e45"
   }
  }
 },
 "nbformat": 4,
 "nbformat_minor": 2
}
